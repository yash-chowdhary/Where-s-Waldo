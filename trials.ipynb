{
 "cells": [
  {
   "cell_type": "code",
   "execution_count": null,
   "metadata": {
    "collapsed": true
   },
   "outputs": [],
   "source": [
    "import numpy as np\n",
    "import cv2\n",
    "from matplotlib import pyplot as plt\n",
    "import os\n",
    "import cyvlfeat as vlfeat\n",
    "from sklearn.svm import LinearSVC, SVC\n",
    "import os.path as osp\n",
    "from skimage import filters\n",
    "from skimage.feature import corner_peaks\n",
    "from skimage.io import imread\n",
    "import pickle\n",
    "from random import shuffle\n",
    "from scipy.spatial.distance import cdist"
   ]
  },
  {
   "cell_type": "code",
   "execution_count": null,
   "metadata": {
    "collapsed": true
   },
   "outputs": [],
   "source": [
    "-"
   ]
  },
  {
   "cell_type": "code",
   "execution_count": null,
   "metadata": {
    "collapsed": true
   },
   "outputs": [],
   "source": [
    "waldo_paths = []\n",
    "wenda_paths = []\n",
    "wizard_paths = []\n",
    "all_paths = []\n",
    "\n",
    "test_image_paths = []\n",
    "with open('datasets/ImageSets/val.txt') as file:\n",
    "    for img_id in file.readlines():\n",
    "        img_id = img_id.rstrip()\n",
    "        test_image_paths.append('datasets/JPEGImages/{}.jpg'.format(img_id))\n",
    "\n",
    "file.close()\n",
    "\n",
    "\n",
    "template_dirs = [\"templates/waldo\",\"templates/wenda\",\"templates/wizard\"]\n",
    "\n",
    "for i in range(len(template_dirs)):\n",
    "    for img_id in os.listdir(template_dirs[i]):\n",
    "        path_to_dir = os.path.join(template_dirs[i], '{}'.format(img_id)).rstrip()\n",
    "        if not os.path.isdir(path_to_dir):\n",
    "            continue\n",
    "        list_of_files = os.listdir(path_to_dir)\n",
    "        for file_name in list_of_files:\n",
    "            all_paths.append(os.path.join(path_to_dir, '{}'.format(file_name)).rstrip())\n",
    "            if i==0:\n",
    "                waldo_paths.append(os.path.join(path_to_dir, '{}'.format(file_name)).rstrip())\n",
    "            if i==1:\n",
    "                wenda_paths.append(os.path.join(path_to_dir, '{}'.format(file_name)).rstrip())\n",
    "            if i==2:\n",
    "                wizard_paths.append(os.path.join(path_to_dir, '{}'.format(file_name)).rstrip())"
   ]
  },
  {
   "cell_type": "code",
   "execution_count": null,
   "metadata": {
    "collapsed": true
   },
   "outputs": [],
   "source": [
    "vocab_filename = 'vocab.pkl'\n",
    "vocab_size = 200\n",
    "vocab = build_vocabulary(all_paths,vocab_size)\n",
    "    \n",
    "with open(vocab_filename, 'wb') as f:\n",
    "    pickle.dump(vocab, f)"
   ]
  },
  {
   "cell_type": "code",
   "execution_count": null,
   "metadata": {
    "collapsed": true
   },
   "outputs": [],
   "source": []
  }
 ],
 "metadata": {
  "kernelspec": {
   "display_name": "Python 3",
   "language": "python",
   "name": "python3"
  },
  "language_info": {
   "codemirror_mode": {
    "name": "ipython",
    "version": 3
   },
   "file_extension": ".py",
   "mimetype": "text/x-python",
   "name": "python",
   "nbconvert_exporter": "python",
   "pygments_lexer": "ipython3",
   "version": "3.6.9"
  }
 },
 "nbformat": 4,
 "nbformat_minor": 2
}
