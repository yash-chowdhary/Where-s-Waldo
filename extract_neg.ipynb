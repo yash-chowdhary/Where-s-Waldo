{
 "cells": [
  {
   "cell_type": "code",
   "execution_count": 7,
   "metadata": {
    "collapsed": true
   },
   "outputs": [],
   "source": [
    "import os\n",
    "import xml.etree.ElementTree as ET\n",
    "import numpy as np\n",
    "from matplotlib import pyplot as plt\n",
    "\n",
    "\n",
    "def extract_negatives(image_id):\n",
    "    \"\"\"\n",
    "    Extract templates\n",
    "    :param image_id: id of image to extract from\n",
    "    \"\"\"\n",
    "    image_dir = 'datasets/JPEGImages'\n",
    "    anno_dir = 'datasets/Annotations'\n",
    "    image_file = os.path.join(image_dir, '{}.jpg'.format(image_id))\n",
    "    anno_file = os.path.join(anno_dir, '{}.xml'.format(image_id))\n",
    "    assert os.path.exists(image_file), '{} not found.'.format(image_file)\n",
    "    assert os.path.exists(anno_file), '{} not found.'.format(anno_file)\n",
    "    out_dir = 'negatives_same_scale'\n",
    "\n",
    "    anno_tree = ET.parse(anno_file)\n",
    "    objs = anno_tree.findall('object')\n",
    "    occurrences = {'waldo': 0, 'wenda': 0, 'wizard': 0}\n",
    "    image = np.asarray(plt.imread(image_file))\n",
    "    bboxes = []\n",
    "    w = h = count = 0\n",
    "    for idx, obj in enumerate(objs):\n",
    "        name = obj.find('name').text\n",
    "        bbox = obj.find('bndbox')\n",
    "        x1 = int(bbox.find('xmin').text)\n",
    "        y1 = int(bbox.find('ymin').text)\n",
    "        x2 = int(bbox.find('xmax').text)\n",
    "        y2 = int(bbox.find('ymax').text)\n",
    "        #lets just use the last w and h\n",
    "        w = x2-x1\n",
    "        h = y2-y1\n",
    "        bboxes.append((x1, y1, w, h))\n",
    "        count += 1\n",
    "    for i in range(count):\n",
    "        while True:\n",
    "            done = False\n",
    "            x = np.random.randint(0, image.shape[1] - w)\n",
    "            y = np.random.randint(0, image.shape[0] - h)\n",
    "            box = (x, y, w, h)\n",
    "            failed = False\n",
    "            for boxy in bboxes:\n",
    "                if is_intersect(box, boxy):\n",
    "                   failed = True\n",
    "                   break\n",
    "            if not failed:\n",
    "                #save img\n",
    "                plt.imsave('{}/{}_{}_2.jpg'.format(out_dir, image_id, i), image[y:y+h, x:x+w])\n",
    "                break\n",
    "    \n",
    "\n",
    "def is_intersect(bbox1, bbox2):\n",
    "    x1, y1, w1, h1 = bbox1\n",
    "    x2, y2, w2, h2 = bbox2\n",
    "    score = 0\n",
    "    ### YOUR CODE HERE\n",
    "    if x1 < x2:\n",
    "        if x1 + w1 < x2:\n",
    "            return 0\n",
    "    if x2 < x1:\n",
    "        if x2 + w2 < x1:\n",
    "            return 0\n",
    "    if y1 < y2:\n",
    "        if y1 + h1 < y2:\n",
    "            return 0\n",
    "    if y2 < y1:\n",
    "        if y2 + h2 < y1:\n",
    "            return 0\n",
    "    i_x1 = max(x1, x2)\n",
    "    i_x2 = min(x1 + w1, x2 + w2)\n",
    "    i_y1 = max(y1, y2)\n",
    "    i_y2 = min(y1 + h1, y2 + h2)\n",
    "    i = (i_x2 - i_x1) * (i_y2 - i_y1)\n",
    "    return i > 0"
   ]
  },
  {
   "cell_type": "code",
   "execution_count": 8,
   "metadata": {},
   "outputs": [],
   "source": [
    "filename = 'datasets/ImageSets/train.txt'\n",
    "with open(filename) as f:\n",
    "    for img_id in f.readlines():\n",
    "        img_id = img_id.rstrip()\n",
    "        extract_negatives(img_id)"
   ]
  },
  {
   "cell_type": "code",
   "execution_count": null,
   "metadata": {
    "collapsed": true
   },
   "outputs": [],
   "source": []
  }
 ],
 "metadata": {
  "kernelspec": {
   "display_name": "Python 3",
   "language": "python",
   "name": "python3"
  },
  "language_info": {
   "codemirror_mode": {
    "name": "ipython",
    "version": 3
   },
   "file_extension": ".py",
   "mimetype": "text/x-python",
   "name": "python",
   "nbconvert_exporter": "python",
   "pygments_lexer": "ipython3",
   "version": "3.6.9"
  }
 },
 "nbformat": 4,
 "nbformat_minor": 2
}
