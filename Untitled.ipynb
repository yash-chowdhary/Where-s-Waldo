{
 "cells": [
  {
   "cell_type": "code",
   "execution_count": 2,
   "metadata": {},
   "outputs": [
    {
     "name": "stdout",
     "output_type": "stream",
     "text": [
      "waldo = 124 wenda = 36 wizard = 24\n"
     ]
    }
   ],
   "source": [
    "import os\n",
    "import xml.etree.ElementTree as ET\n",
    "import numpy as np\n",
    "from matplotlib import pyplot as plt\n",
    "\n",
    "\n",
    "def count_annotations(image_id):\n",
    "    image_dir = 'datasets/JPEGImages'\n",
    "    anno_dir = 'datasets/Annotations'\n",
    "    image_file = os.path.join(image_dir, '{}.jpg'.format(image_id))\n",
    "    anno_file = os.path.join(anno_dir, '{}.xml'.format(image_id))\n",
    "    assert os.path.exists(image_file), '{} not found.'.format(image_file)\n",
    "    assert os.path.exists(anno_file), '{} not found.'.format(anno_file)\n",
    "    waldo_pos_path = 'cascade_waldo/p'\n",
    "    wenda_pos_path = 'cascade_wenda/p'\n",
    "    wizard_pos_path = 'cascade_wizard/p'\n",
    "    waldo_neg_path = 'cascade_waldo/n'\n",
    "    wenda_neg_path = 'cascade_wenda/n'\n",
    "    wizard_neg_path = 'cascade_wizard/n'\n",
    "\n",
    "    anno_tree = ET.parse(anno_file)\n",
    "    objs = anno_tree.findall('object')\n",
    "    image = np.asarray(plt.imread(image_file))\n",
    "    waldo_count = wenda_count = wizard_count = 0\n",
    "    for idx, obj in enumerate(objs):\n",
    "        name = obj.find('name').text\n",
    "        bbox = obj.find('bndbox')\n",
    "        if name == 'waldo':\n",
    "            waldo_count += 1\n",
    "        elif name == 'wenda':\n",
    "            wenda_count += 1\n",
    "        elif name == 'wizard':\n",
    "            wizard_count += 1\n",
    "        else:\n",
    "            print('name {} is invalid'.format(name))\n",
    "    return waldo_count, wenda_count, wizard_count\n",
    "\n",
    "filename = 'datasets/ImageSets/train.txt'\n",
    "waldo_count = wenda_count = wizard_count = 0\n",
    "with open(filename) as f:\n",
    "    for img_id in f.readlines():\n",
    "        img_id = img_id.rstrip()\n",
    "        wa, we, wi = count_annotations(img_id)\n",
    "        waldo_count += wa\n",
    "        wenda_count += we\n",
    "        wizard_count += wi\n",
    "print('waldo = {} wenda = {} wizard = {}'.format(waldo_count, wenda_count, wizard_count))"
   ]
  },
  {
   "cell_type": "code",
   "execution_count": null,
   "metadata": {
    "collapsed": true
   },
   "outputs": [],
   "source": []
  }
 ],
 "metadata": {
  "kernelspec": {
   "display_name": "Python 3",
   "language": "python",
   "name": "python3"
  },
  "language_info": {
   "codemirror_mode": {
    "name": "ipython",
    "version": 3
   },
   "file_extension": ".py",
   "mimetype": "text/x-python",
   "name": "python",
   "nbconvert_exporter": "python",
   "pygments_lexer": "ipython3",
   "version": "3.6.9"
  }
 },
 "nbformat": 4,
 "nbformat_minor": 2
}
