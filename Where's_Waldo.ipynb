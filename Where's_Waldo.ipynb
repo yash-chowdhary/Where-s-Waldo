{
 "cells": [
  {
   "cell_type": "markdown",
   "metadata": {},
   "source": [
    "## Setup"
   ]
  },
  {
   "cell_type": "code",
   "execution_count": null,
   "metadata": {
    "collapsed": true
   },
   "outputs": [],
   "source": [
    "import cv2\n",
    "import numpy as np\n",
    "from skimage.io import imread\n",
    "import matplotlib.pyplot as plt\n",
    "import os.path as osp\n",
    "import os\n",
    "import xml.etree.ElementTree as ET\n",
    "import imutils\n",
    "import cyvlfeat as vlfeat\n",
    "from skimage import filters\n",
    "from skimage.feature import corner_peaks\n",
    "import pickle\n",
    "from random import shuffle\n",
    "from scipy.spatial.distance import cdist"
   ]
  },
  {
   "cell_type": "code",
   "execution_count": null,
   "metadata": {
    "collapsed": true
   },
   "outputs": [],
   "source": [
    "from voc_eval import *\n",
    "\n",
    "def evaluate_mAP():\n",
    "    detpath = '{}.txt'\n",
    "    annopath = 'datasets/Annotations/{}.xml'\n",
    "    imagesetfile = 'datasets/ImageSets/val.txt'\n",
    "    cachedir = 'cache_anno'\n",
    "\n",
    "    classes = ['waldo']\n",
    "    meanAP = 0\n",
    "    for idx, classname in enumerate(classes) :\n",
    "        rec, prec, ap = voc_eval(detpath, annopath, imagesetfile, classname,\n",
    "                                                cachedir, ovthresh=0.5, use_07_metric=False)\n",
    "        meanAP += ap\n",
    "        print('{}: {}'.format(classname, ap))\n",
    "\n",
    "    print('meanAP: {}'.format(meanAP/len(classes)))"
   ]
  },
  {
   "cell_type": "markdown",
   "metadata": {},
   "source": [
    "## Cascade Classifier"
   ]
  },
  {
   "cell_type": "code",
   "execution_count": null,
   "metadata": {
    "collapsed": true
   },
   "outputs": [],
   "source": [
    "waldo_cascade = cv2.CascadeClassifier('cascade_waldo/classifier/cascade.xml')\n",
    "wenda_cascade = cv2.CascadeClassifier('cascade_wenda/classifier/cascade.xml')\n",
    "wizard_cascade = cv2.CascadeClassifier('cascade_wizard/classifier/cascade.xml')\n",
    "\n",
    "def cascade_detection_waldo(img_number):\n",
    "    img = imread('datasets/JPEGImages/' + img_number + '.jpg')\n",
    "    img_grey = cv2.cvtColor(img, cv2.COLOR_RGB2GRAY)\n",
    "    candidates, reject_levels, level_weights = waldo_cascade.detectMultiScale3(img_grey, 1.03, 3, outputRejectLevels=True)\n",
    "    for (x,y,w,h) in waldo_candidates:\n",
    "        cv2.rectangle(img,(x,y),(x+w,y+h),(255,0,0),10)\n",
    "        roi_gray = img_grey[y:y+h, x:x+w]\n",
    "        roi_color = img[y:y+h, x:x+w]\n",
    "    \n",
    "    plt.imshow(img, interpolation='nearest')\n",
    "    plt.show()\n",
    "    \n",
    "    return candidates, level_weights\n",
    "\n",
    "def cascade_detection_wenda(img_number):\n",
    "    img = imread('datasets/JPEGImages/' + img_number + '.jpg')\n",
    "    img_grey = cv2.cvtColor(img, cv2.COLOR_RGB2GRAY)\n",
    "    candidates, reject_levels, level_weights = wenda_cascade.detectMultiScale3(img_grey, 1.03, 3, outputRejectLevels=True)\n",
    "    for (x,y,w,h) in candidates:\n",
    "        cv2.rectangle(img,(x,y),(x+w,y+h),(255,0,0),10)\n",
    "        roi_gray = img_grey[y:y+h, x:x+w]\n",
    "        roi_color = img[y:y+h, x:x+w]\n",
    "    \n",
    "    plt.imshow(img, interpolation='nearest')\n",
    "    plt.show()\n",
    "    \n",
    "    return candidates, level_weights\n",
    "\n",
    "def cascade_detection_wizard(img_number):\n",
    "    img = imread('datasets/JPEGImages/' + img_number + '.jpg')\n",
    "    img_grey = cv2.cvtColor(img, cv2.COLOR_RGB2GRAY)\n",
    "    candidates, reject_levels, level_weights = wizard_cascade.detectMultiScale3(img_grey, 1.03, 3, outputRejectLevels=True)\n",
    "    for (x,y,w,h) in candidates:\n",
    "        cv2.rectangle(img,(x,y),(x+w,y+h),(255,0,0),10)\n",
    "        roi_gray = img_grey[y:y+h, x:x+w]\n",
    "        roi_color = img[y:y+h, x:x+w]\n",
    "    \n",
    "    plt.imshow(img, interpolation='nearest')\n",
    "    plt.show()\n",
    "    \n",
    "    return candidates, level_weights"
   ]
  },
  {
   "cell_type": "code",
   "execution_count": null,
   "metadata": {},
   "outputs": [],
   "source": [
    "image_ids = []\n",
    "\n",
    "waldo_candidates_all = []\n",
    "wenda_candidates_all = []\n",
    "wizard_candidates_all = []\n",
    "\n",
    "waldo_level_weights = []\n",
    "wenda_level_weights = []\n",
    "wizard_level_weights = []\n",
    "\n",
    "with open('datasets/ImageSets/val.txt') as file:\n",
    "    for img_id in file.readlines():\n",
    "        img_id = img_id.rstrip()\n",
    "        image_ids.append(img_id)\n",
    "        \n",
    "        waldo_candidates, level_weights = cascade_detection_waldo(img_id)\n",
    "        waldo_candidates_all.append(waldo_candidates)\n",
    "        waldo_level_weights.append(level_weights)\n",
    "        \n",
    "        wenda_candidates, level_weights = cascade_detection_wenda(img_id)\n",
    "        wenda_candidates_all.append(wenda_candidates)\n",
    "        wenda_level_weights.append(level_weights)\n",
    "        \n",
    "        wizard_candidates, level_weights = cascade_detection_wizard(img_id)\n",
    "        wizard_candidates_all.append(wizard_candidates)\n",
    "        wizard_level_weights.append(level_weights)\n",
    "        \n",
    "print(image_ids)"
   ]
  },
  {
   "cell_type": "code",
   "execution_count": null,
   "metadata": {},
   "outputs": [],
   "source": [
    "with open('my_waldo.txt', 'w+') as output:\n",
    "    for i in range(len(image_ids)):\n",
    "        img_id = image_ids[i]\n",
    "        print(img_id)\n",
    "        waldo_candidates = waldo_candidates_all[i]\n",
    "        print(waldo_candidates)\n",
    "        level_weights = waldo_level_weights[i]\n",
    "        print(level_weights)\n",
    "        \n",
    "        for j in range(len(waldo_candidates)):\n",
    "            x,y,w,h = waldo_candidates[j]\n",
    "            conf = level_weights[j][0]\n",
    "            result = str(img_id) + ' ' + str(conf) + ' ' + str(x) + ' ' + str(y) + ' ' + str(x + w) + ' ' + str(y + h)\n",
    "            \n",
    "            if not j == len(waldo_candidates) - 1:\n",
    "                result += '\\n'\n",
    "            \n",
    "            print(result)\n",
    "            output.write(result)\n",
    "            \n",
    "with open('my_wenda.txt', 'w+') as output:\n",
    "    for i in range(len(image_ids)):\n",
    "        img_id = image_ids[i]\n",
    "        print(img_id)\n",
    "        wenda_candidates = wenda_candidates_all[i]\n",
    "        print(wenda_candidates)\n",
    "        level_weights = wenda_level_weights[i]\n",
    "        print(level_weights)\n",
    "        \n",
    "        for j in range(len(wenda_candidates)):\n",
    "            x,y,w,h = wenda_candidates[j]\n",
    "            conf = level_weights[j][0]\n",
    "            result = str(img_id) + ' ' + str(conf) + ' ' + str(x) + ' ' + str(y) + ' ' + str(x + w) + ' ' + str(y + h)\n",
    "            \n",
    "            if not j == len(wenda_candidates) - 1:\n",
    "                result += '\\n'\n",
    "            \n",
    "            print(result)\n",
    "            output.write(result)\n",
    "            \n",
    "with open('my_wizard.txt', 'w+') as output:\n",
    "    for i in range(len(image_ids)):\n",
    "        img_id = image_ids[i]\n",
    "        print(img_id)\n",
    "        wizard_candidates = wizard_candidates_all[i]\n",
    "        print(wizard_candidates)\n",
    "        level_weights = wizard_level_weights[i]\n",
    "        print(level_weights)\n",
    "        \n",
    "        for j in range(len(wizard_candidates)):\n",
    "            x,y,w,h = wizard_candidates[j]\n",
    "            conf = level_weights[j][0]\n",
    "            result = str(img_id) + ' ' + str(conf) + ' ' + str(x) + ' ' + str(y) + ' ' + str(x + w) + ' ' + str(y + h)\n",
    "            \n",
    "            if not j == len(wizard_candidates) - 1:\n",
    "                result += '\\n'\n",
    "            \n",
    "            print(result)\n",
    "            output.write(result)"
   ]
  },
  {
   "cell_type": "code",
   "execution_count": null,
   "metadata": {},
   "outputs": [],
   "source": [
    "evaluate_mAP()"
   ]
  }
 ],
 "metadata": {
  "kernelspec": {
   "display_name": "Python 3",
   "language": "python",
   "name": "python3"
  },
  "language_info": {
   "codemirror_mode": {
    "name": "ipython",
    "version": 3
   },
   "file_extension": ".py",
   "mimetype": "text/x-python",
   "name": "python",
   "nbconvert_exporter": "python",
   "pygments_lexer": "ipython3",
   "version": "3.6.9"
  }
 },
 "nbformat": 4,
 "nbformat_minor": 2
}
